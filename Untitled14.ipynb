{
 "cells": [
  {
   "cell_type": "markdown",
   "id": "6f3b3964",
   "metadata": {},
   "source": [
    "# Write a Python program to create a lambda function that adds 25 to a given number passed in as an argument.\n",
    "sample input: 10\n",
    "sample output: 35\n"
   ]
  },
  {
   "cell_type": "code",
   "execution_count": 5,
   "id": "32a0d5f5",
   "metadata": {},
   "outputs": [
    {
     "name": "stdout",
     "output_type": "stream",
     "text": [
      "enter a number: 10\n",
      "35\n"
     ]
    }
   ],
   "source": [
    "x=lambda a,b:a+b\n",
    "a=int(input(\"enter a number: \"))\n",
    "print(x(a,25))"
   ]
  },
  {
   "cell_type": "markdown",
   "id": "9fb56540",
   "metadata": {},
   "source": [
    "# Write a Python program to triple all numbers of a given list of integers. Use Python map.\n",
    "\n",
    "sample list: [1, 2, 3, 4, 5, 6, 7]\n",
    "\n",
    "Triple of list numbers:\n",
    "\n",
    "[3, 6, 9, 12, 15, 18, 21]"
   ]
  },
  {
   "cell_type": "code",
   "execution_count": 6,
   "id": "6178940b",
   "metadata": {},
   "outputs": [
    {
     "name": "stdout",
     "output_type": "stream",
     "text": [
      "[3, 6, 9, 12, 15, 18, 21]\n"
     ]
    }
   ],
   "source": [
    "x= [1, 2, 3, 4, 5, 6, 7]\n",
    "s=list(map(lambda n:n*3,x))\n",
    "print(s)\n"
   ]
  },
  {
   "cell_type": "markdown",
   "id": "20c51375",
   "metadata": {},
   "source": [
    "# Write a Python program to square the elements of a list using map() function.\n",
    "\n",
    "Sample List: [4, 5, 2, 9]\n",
    "\n",
    "Square the elements of the list:\n",
    "\n",
    "[16, 25, 4, 81]"
   ]
  },
  {
   "cell_type": "code",
   "execution_count": 7,
   "id": "8e46f9b7",
   "metadata": {},
   "outputs": [
    {
     "name": "stdout",
     "output_type": "stream",
     "text": [
      "[16, 25, 4, 81]\n"
     ]
    }
   ],
   "source": [
    "x= [4, 5, 2, 9]\n",
    "s=list(map(lambda n:n**2,x))\n",
    "print(s)"
   ]
  },
  {
   "cell_type": "code",
   "execution_count": null,
   "id": "cb649f07",
   "metadata": {},
   "outputs": [],
   "source": []
  }
 ],
 "metadata": {
  "kernelspec": {
   "display_name": "Python 3 (ipykernel)",
   "language": "python",
   "name": "python3"
  },
  "language_info": {
   "codemirror_mode": {
    "name": "ipython",
    "version": 3
   },
   "file_extension": ".py",
   "mimetype": "text/x-python",
   "name": "python",
   "nbconvert_exporter": "python",
   "pygments_lexer": "ipython3",
   "version": "3.9.13"
  }
 },
 "nbformat": 4,
 "nbformat_minor": 5
}
